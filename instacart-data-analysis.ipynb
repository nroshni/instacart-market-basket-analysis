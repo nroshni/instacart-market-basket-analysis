{
 "cells": [
  {
   "cell_type": "code",
   "execution_count": 1,
   "metadata": {},
   "outputs": [],
   "source": [
    "# Importing necessary modules\n",
    "import collections\n",
    "import numpy as np\n",
    "import pandas as pd\n",
    "import seaborn as sns\n",
    "import matplotlib.pyplot as plt\n",
    "from scipy import stats"
   ]
  },
  {
   "cell_type": "code",
   "execution_count": 2,
   "metadata": {},
   "outputs": [],
   "source": [
    "data_path = 'data/'"
   ]
  },
  {
   "cell_type": "code",
   "execution_count": 3,
   "metadata": {},
   "outputs": [],
   "source": [
    "# Load the data files\n",
    "aisles_df = pd.read_csv(data_path + 'aisles.csv')\n",
    "products_df = pd.read_csv(data_path + 'products.csv')\n",
    "orders_df = pd.read_csv(data_path + 'orders.csv')\n",
    "order_prior_df = pd.read_csv(data_path + 'order_products__prior.csv')\n",
    "order_train_df = pd.read_csv(data_path + 'order_products__train.csv')\n"
   ]
  },
  {
   "cell_type": "code",
   "execution_count": 4,
   "metadata": {
    "collapsed": true
   },
   "outputs": [
    {
     "name": "stdout",
     "output_type": "stream",
     "text": [
      "## df: \n",
      "    aisle_id                       aisle\n",
      "0         1       prepared soups salads\n",
      "1         2           specialty cheeses\n",
      "2         3         energy granola bars\n",
      "3         4               instant foods\n",
      "4         5  marinades meat preparation\n",
      "## Shape: (134, 2) & Columns : \n",
      "Index(['aisle_id', 'aisle'], dtype='object')\n"
     ]
    }
   ],
   "source": [
    "print(f'## df: \\n {aisles_df.head()}')\n",
    "print(f'## Shape: {aisles_df.shape} & Columns : \\n{aisles_df.columns}')"
   ]
  },
  {
   "cell_type": "code",
   "execution_count": 5,
   "metadata": {
    "collapsed": true
   },
   "outputs": [
    {
     "name": "stdout",
     "output_type": "stream",
     "text": [
      "## df: \n",
      "    product_id                                       product_name  aisle_id  \\\n",
      "0           1                         Chocolate Sandwich Cookies        61   \n",
      "1           2                                   All-Seasons Salt       104   \n",
      "2           3               Robust Golden Unsweetened Oolong Tea        94   \n",
      "3           4  Smart Ones Classic Favorites Mini Rigatoni Wit...        38   \n",
      "4           5                          Green Chile Anytime Sauce         5   \n",
      "\n",
      "   department_id  \n",
      "0             19  \n",
      "1             13  \n",
      "2              7  \n",
      "3              1  \n",
      "4             13  \n",
      "## Shape: (49688, 4) & Columns : \n",
      "Index(['product_id', 'product_name', 'aisle_id', 'department_id'], dtype='object')\n"
     ]
    }
   ],
   "source": [
    "print(f'## df: \\n {products_df.head()}')\n",
    "print(f'## Shape: {products_df.shape} & Columns : \\n{products_df.columns}')"
   ]
  },
  {
   "cell_type": "code",
   "execution_count": 6,
   "metadata": {
    "collapsed": true
   },
   "outputs": [
    {
     "name": "stdout",
     "output_type": "stream",
     "text": [
      "## df: \n",
      "    order_id  user_id eval_set  order_number  order_dow  order_hour_of_day  \\\n",
      "0   2539329        1    prior             1          2                  8   \n",
      "1   2398795        1    prior             2          3                  7   \n",
      "2    473747        1    prior             3          3                 12   \n",
      "3   2254736        1    prior             4          4                  7   \n",
      "4    431534        1    prior             5          4                 15   \n",
      "\n",
      "   days_since_prior_order  \n",
      "0                     NaN  \n",
      "1                    15.0  \n",
      "2                    21.0  \n",
      "3                    29.0  \n",
      "4                    28.0  \n",
      "## Shape: (3421083, 7) & Columns : \n",
      "Index(['order_id', 'user_id', 'eval_set', 'order_number', 'order_dow',\n",
      "       'order_hour_of_day', 'days_since_prior_order'],\n",
      "      dtype='object')\n"
     ]
    }
   ],
   "source": [
    "print(f'## df: \\n {orders_df.head()}')\n",
    "print(f'## Shape: {orders_df.shape} & Columns : \\n{orders_df.columns}')"
   ]
  },
  {
   "cell_type": "code",
   "execution_count": 7,
   "metadata": {
    "collapsed": true
   },
   "outputs": [
    {
     "name": "stdout",
     "output_type": "stream",
     "text": [
      "## df: \n",
      "    order_id  product_id  add_to_cart_order  reordered\n",
      "0         2       33120                  1          1\n",
      "1         2       28985                  2          1\n",
      "2         2        9327                  3          0\n",
      "3         2       45918                  4          1\n",
      "4         2       30035                  5          0\n",
      "## Shape: (32434489, 4) & Columns : \n",
      "Index(['order_id', 'product_id', 'add_to_cart_order', 'reordered'], dtype='object')\n"
     ]
    }
   ],
   "source": [
    "print(f'## df: \\n {order_prior_df.head()}')\n",
    "print(f'## Shape: {order_prior_df.shape} & Columns : \\n{order_prior_df.columns}')"
   ]
  },
  {
   "cell_type": "code",
   "execution_count": 8,
   "metadata": {
    "collapsed": true
   },
   "outputs": [
    {
     "name": "stdout",
     "output_type": "stream",
     "text": [
      "## df: \n",
      "    order_id  product_id  add_to_cart_order  reordered\n",
      "0         1       49302                  1          1\n",
      "1         1       11109                  2          1\n",
      "2         1       10246                  3          0\n",
      "3         1       49683                  4          0\n",
      "4         1       43633                  5          1\n",
      "## Shape: (1384617, 4) & Columns : \n",
      "Index(['order_id', 'product_id', 'add_to_cart_order', 'reordered'], dtype='object')\n"
     ]
    }
   ],
   "source": [
    "print(f'## df: \\n {order_train_df.head()}')\n",
    "print(f'## Shape: {order_train_df.shape} & Columns : \\n{order_train_df.columns}')"
   ]
  },
  {
   "cell_type": "code",
   "execution_count": 9,
   "metadata": {},
   "outputs": [
    {
     "name": "stdout",
     "output_type": "stream",
     "text": [
      "          order_id  user_id\n",
      "eval_set                   \n",
      "prior      3214874   206209\n",
      "test         75000    75000\n",
      "train       131209   131209\n"
     ]
    }
   ],
   "source": [
    "# Fetch order and user distribution in prior, train and test eval_sets\n",
    "# num_orders = orders_df.eval_set.value_counts().rename_axis('eval_set').reset_index(name='counts')\n",
    "# print(num_orders)\n",
    "\n",
    "num_customers = orders_df.groupby('eval_set')['order_id', 'user_id'].nunique()\n",
    "print(num_customers)"
   ]
  },
  {
   "cell_type": "code",
   "execution_count": 10,
   "metadata": {},
   "outputs": [
    {
     "data": {
      "image/png": "[encoded data removed]",
      "text/plain": [
       "<Figure size 432x288 with 1 Axes>"
      ]
     },
     "metadata": {
      "needs_background": "light"
     },
     "output_type": "display_data"
    }
   ],
   "source": [
    "# Frequency distribution of orders placed based on 'days_since_prior_order'\n",
    "\n",
    "unique_order_intervals = orders_df.days_since_prior_order.dropna().unique()\n",
    "unique_order_intervals.sort()\n",
    "\n",
    "num_orders = orders_df.groupby('days_since_prior_order')['order_id'].count()\n",
    "\n",
    "plt.bar(unique_order_intervals, num_orders)\n",
    "plt.xlabel('Days since prior order')\n",
    "plt.ylabel('Number of orders')\n",
    "plt.title('Frequence distribution of orders by days_since_prior_order')\n",
    "plt.show()"
   ]
  },
  {
   "cell_type": "markdown",
   "metadata": {},
   "source": [
    "We see that most orders are placed in weekly and monthly intervals"
   ]
  },
  {
   "cell_type": "code",
   "execution_count": 11,
   "metadata": {
    "scrolled": true
   },
   "outputs": [
    {
     "data": {
      "image/png": "[encoded data removed]",
      "text/plain": [
       "<Figure size 432x288 with 1 Axes>"
      ]
     },
     "metadata": {
      "needs_background": "light"
     },
     "output_type": "display_data"
    }
   ],
   "source": [
    "# Distribution of orders based on the day of week(dow) ordered\n",
    "\n",
    "ordered_day = orders_df.order_dow.dropna().unique()\n",
    "ordered_day.sort()\n",
    "\n",
    "num_orders = orders_df.groupby('order_dow')['order_id'].count()\n",
    "x_labels = ['Sat', 'Sun', 'Mon', 'Tue', 'Wed', 'Thu', 'Fri']\n",
    "\n",
    "plt.bar(ordered_day, num_orders, tick_label=x_labels)\n",
    "plt.xlabel('Day of the week')\n",
    "plt.ylabel('Number of orders placed')\n",
    "plt.title('Frequence distribution of orders by day of the week (order placed)')\n",
    "plt.show()"
   ]
  },
  {
   "cell_type": "markdown",
   "metadata": {},
   "source": [
    "We see most orders been placed on weekends as compared to weekdays"
   ]
  },
  {
   "cell_type": "code",
   "execution_count": 12,
   "metadata": {},
   "outputs": [
    {
     "data": {
      "image/png": "[encoded data removed]",
      "text/plain": [
       "<Figure size 432x288 with 1 Axes>"
      ]
     },
     "metadata": {
      "needs_background": "light"
     },
     "output_type": "display_data"
    }
   ],
   "source": [
    "# Distribution of orders based on the hour of day (hod) ordered\n",
    "\n",
    "ordered_hour = orders_df.order_hour_of_day.dropna().unique()\n",
    "ordered_hour.sort()\n",
    "\n",
    "num_orders = orders_df.groupby('order_hour_of_day')['order_id'].count()\n",
    "\n",
    "plt.bar(ordered_hour, num_orders, tick_label=ordered_hour)\n",
    "plt.xlabel('Hour of the day')\n",
    "plt.ylabel('Number of orders placed')\n",
    "plt.title('Frequence distribution of orders by hour of the day (order placed)')\n",
    "plt.show()"
   ]
  },
  {
   "cell_type": "markdown",
   "metadata": {},
   "source": [
    "Most orders are placed in the prime day time"
   ]
  },
  {
   "cell_type": "code",
   "execution_count": 13,
   "metadata": {},
   "outputs": [
    {
     "data": {
      "image/png": "[encoded data removed]",
      "text/plain": [
       "<Figure size 936x432 with 2 Axes>"
      ]
     },
     "metadata": {
      "needs_background": "light"
     },
     "output_type": "display_data"
    }
   ],
   "source": [
    "# Distribution of orders based on day + hour\n",
    "\n",
    "num_orders = orders_df.groupby([\"order_dow\", \"order_hour_of_day\"])[\"order_id\"].count().reset_index()\n",
    "num_orders = num_orders.pivot('order_dow', 'order_hour_of_day', 'order_id')\n",
    "num_orders\n",
    "\n",
    "plt.figure(figsize=(13,6))\n",
    "plt.title('Frequency distribution of orders by day of week & hour of day')\n",
    "sns.heatmap(num_orders, linewidth=0.1)\n",
    "plt.show()"
   ]
  },
  {
   "cell_type": "markdown",
   "metadata": {},
   "source": [
    "Find a lot of orders placed on saturdays afternoons and sunday mornings"
   ]
  },
  {
   "cell_type": "code",
   "execution_count": 14,
   "metadata": {
    "scrolled": true
   },
   "outputs": [
    {
     "data": {
      "image/png": "[encoded data removed]",
      "text/plain": [
       "<Figure size 1440x576 with 1 Axes>"
      ]
     },
     "metadata": {
      "needs_background": "light"
     },
     "output_type": "display_data"
    },
    {
     "name": "stdout",
     "output_type": "stream",
     "text": [
      "Statistics of product distribution across orders\n",
      "Mean :  10.552759338155157\n",
      "Median :  9.0\n",
      "Mode :  ModeResult(mode=array([5]), count=array([8895]))\n",
      "Std Deviation :  7.93281653515777\n"
     ]
    }
   ],
   "source": [
    "# Average products bought in each order in train set\n",
    "num_products = order_train_df.groupby('order_id')['add_to_cart_order'].max()\n",
    "num_products = list(num_products)\n",
    "num_products.sort()\n",
    "\n",
    "counter = collections.Counter(num_products)\n",
    "y_vals = list(counter.values())\n",
    "x_vals = list(counter.keys())\n",
    "\n",
    "plt.figure(figsize=(20,8))\n",
    "plt.bar(x_vals, y_vals, tick_label=x_vals)\n",
    "plt.xlabel('Number of products')\n",
    "plt.ylabel('Number of orders')\n",
    "plt.title('Frequence distribution of number of products in orders')\n",
    "plt.show()\n",
    "\n",
    "print(\"Statistics of product distribution across orders\")\n",
    "print(\"Mean : \", np.mean(num_products))\n",
    "print(\"Median : \", np.median(num_products))\n",
    "print(\"Mode : \", stats.mode(num_products))\n",
    "print(\"Std Deviation : \", np.std(num_products))"
   ]
  },
  {
   "cell_type": "code",
   "execution_count": 15,
   "metadata": {},
   "outputs": [
    {
     "data": {
      "image/png": "[encoded data removed]",
      "text/plain": [
       "<Figure size 1440x720 with 1 Axes>"
      ]
     },
     "metadata": {
      "needs_background": "light"
     },
     "output_type": "display_data"
    },
    {
     "name": "stdout",
     "output_type": "stream",
     "text": [
      "Statistics of product distribution across orders\n",
      "Mean :  10.088883421247614\n",
      "Median :  8.0\n",
      "Mode :  ModeResult(mode=array([5]), count=array([228330]))\n",
      "Std Deviation :  7.525397169642686\n"
     ]
    }
   ],
   "source": [
    "# Average products bought in each order in prior set\n",
    "num_products = order_prior_df.groupby('order_id')['add_to_cart_order'].max()\n",
    "num_products = list(num_products)\n",
    "num_products.sort()\n",
    "\n",
    "counter = collections.Counter(num_products)\n",
    "y_vals = list(counter.values())\n",
    "x_vals = list(counter.keys())\n",
    "\n",
    "plt.figure(figsize=(20,10))\n",
    "plt.bar(x_vals, y_vals, tick_label=x_vals)\n",
    "plt.xlabel('Number of products')\n",
    "plt.ylabel('Number of orders')\n",
    "plt.title('Frequence distribution of number of products in orders')\n",
    "plt.show()\n",
    "\n",
    "print(\"Statistics of product distribution across orders\")\n",
    "print(\"Mean : \", np.mean(num_products))\n",
    "print(\"Median : \", np.median(num_products))\n",
    "print(\"Mode : \", stats.mode(num_products))\n",
    "print(\"Std Deviation : \", np.std(num_products))"
   ]
  },
  {
   "cell_type": "markdown",
   "metadata": {},
   "source": [
    "We find an order with 145 products (prior set) and 80 products (train set). Let's check how frequent these orders were (i.e. post how many days the order was placed)"
   ]
  },
  {
   "cell_type": "code",
   "execution_count": 16,
   "metadata": {},
   "outputs": [
    {
     "data": {
      "text/html": [
       "<div>\n",
       "<style scoped>\n",
       "    .dataframe tbody tr th:only-of-type {\n",
       "        vertical-align: middle;\n",
       "    }\n",
       "\n",
       "    .dataframe tbody tr th {\n",
       "        vertical-align: top;\n",
       "    }\n",
       "\n",
       "    .dataframe thead th {\n",
       "        text-align: right;\n",
       "    }\n",
       "</style>\n",
       "<table border=\"1\" class=\"dataframe\">\n",
       "  <thead>\n",
       "    <tr style=\"text-align: right;\">\n",
       "      <th></th>\n",
       "      <th>order_id</th>\n",
       "      <th>Num of products in order</th>\n",
       "      <th>Items Reordered</th>\n",
       "      <th>days_since_prior_order</th>\n",
       "    </tr>\n",
       "  </thead>\n",
       "  <tbody>\n",
       "    <tr>\n",
       "      <th>max_order_metadata</th>\n",
       "      <td>1395075</td>\n",
       "      <td>80</td>\n",
       "      <td>48</td>\n",
       "      <td>30</td>\n",
       "    </tr>\n",
       "  </tbody>\n",
       "</table>\n",
       "</div>"
      ],
      "text/plain": [
       "                    order_id  Num of products in order  Items Reordered  \\\n",
       "max_order_metadata   1395075                        80               48   \n",
       "\n",
       "                    days_since_prior_order  \n",
       "max_order_metadata                      30  "
      ]
     },
     "execution_count": 16,
     "metadata": {},
     "output_type": "execute_result"
    }
   ],
   "source": [
    "# Find order with max items ordered (train set)\n",
    "num_products = order_train_df.groupby('order_id')['add_to_cart_order'].max()\n",
    "max_order = num_products[num_products == 80].reset_index()\n",
    "max_order = max_order['order_id'][0]\n",
    "\n",
    "# Find 'days_since_prior_order' and 'reordered' items for the max order\n",
    "num_reordered = order_train_df[order_train_df['order_id'] == max_order]['reordered'].sum()\n",
    "days_since_prior_order = orders_df[orders_df['order_id'] == max_order]['days_since_prior_order']\n",
    "\n",
    "max_order_metadata = pd.DataFrame({'order_id': max_order,\n",
    "                                   'Num of products in order': 80,\n",
    "                                   'Items Reordered': num_reordered,\n",
    "                                   'days_since_prior_order': int(days_since_prior_order)\n",
    "                                   }, index=['max_order_metadata'])\n",
    "max_order_metadata"
   ]
  },
  {
   "cell_type": "code",
   "execution_count": 17,
   "metadata": {},
   "outputs": [
    {
     "data": {
      "text/html": [
       "<div>\n",
       "<style scoped>\n",
       "    .dataframe tbody tr th:only-of-type {\n",
       "        vertical-align: middle;\n",
       "    }\n",
       "\n",
       "    .dataframe tbody tr th {\n",
       "        vertical-align: top;\n",
       "    }\n",
       "\n",
       "    .dataframe thead th {\n",
       "        text-align: right;\n",
       "    }\n",
       "</style>\n",
       "<table border=\"1\" class=\"dataframe\">\n",
       "  <thead>\n",
       "    <tr style=\"text-align: right;\">\n",
       "      <th></th>\n",
       "      <th>order_id</th>\n",
       "      <th>Num of products in order</th>\n",
       "      <th>Items Reordered</th>\n",
       "      <th>days_since_prior_order</th>\n",
       "    </tr>\n",
       "  </thead>\n",
       "  <tbody>\n",
       "    <tr>\n",
       "      <th>max_order_metadata</th>\n",
       "      <td>1564244</td>\n",
       "      <td>145</td>\n",
       "      <td>80</td>\n",
       "      <td>30</td>\n",
       "    </tr>\n",
       "  </tbody>\n",
       "</table>\n",
       "</div>"
      ],
      "text/plain": [
       "                    order_id  Num of products in order  Items Reordered  \\\n",
       "max_order_metadata   1564244                       145               80   \n",
       "\n",
       "                    days_since_prior_order  \n",
       "max_order_metadata                      30  "
      ]
     },
     "execution_count": 17,
     "metadata": {},
     "output_type": "execute_result"
    }
   ],
   "source": [
    "# Find order with max items ordered\n",
    "num_products = order_prior_df.groupby('order_id')['add_to_cart_order'].max()\n",
    "max_order = num_products[num_products == 145].reset_index()\n",
    "max_order = max_order['order_id'][0]\n",
    "\n",
    "# Find 'days_since_prior_order' and 'reordered' items for the max order\n",
    "num_reordered = order_prior_df[order_prior_df['order_id'] == max_order]['reordered'].sum()\n",
    "days_since_prior_order = orders_df[orders_df['order_id'] == max_order]['days_since_prior_order']\n",
    "\n",
    "max_order_metadata = pd.DataFrame({'order_id': max_order,\n",
    "                                   'Num of products in order': 145,\n",
    "                                   'Items Reordered': num_reordered,\n",
    "                                   'days_since_prior_order': int(days_since_prior_order)\n",
    "                                   }, index=['max_order_metadata'])\n",
    "max_order_metadata"
   ]
  },
  {
   "cell_type": "markdown",
   "metadata": {},
   "source": [
    "This provides a hint of a correlation between number of products per order v/s days_since_prior_order. This pattern needs to be investigated. If this correlation exists, it would help us with number of products we should provide as predictions. "
   ]
  },
  {
   "cell_type": "code",
   "execution_count": 18,
   "metadata": {},
   "outputs": [
    {
     "data": {
      "image/png": "[encoded data removed]",
      "text/plain": [
       "<Figure size 432x288 with 1 Axes>"
      ]
     },
     "metadata": {
      "needs_background": "light"
     },
     "output_type": "display_data"
    }
   ],
   "source": [
    "# Examining Relationship between days_since_prior_order vs \n",
    "# number of products in the order \n",
    "\n",
    "num_products = order_train_df.groupby('order_id')['add_to_cart_order'].max()\n",
    "num_products = num_products.reset_index()\n",
    "\n",
    "merged_df = pd.merge(num_products,\n",
    "                     orders_df[['order_id', 'days_since_prior_order']], \n",
    "                     how='left', \n",
    "                     on='order_id')\n",
    "\n",
    "plt.scatter(merged_df['days_since_prior_order'], merged_df['add_to_cart_order'])\n",
    "plt.xlabel('days_since_prior_order')\n",
    "plt.ylabel('Number of products in the order')\n",
    "plt.title('Scatter plot of days_since_prior_order vs number of products in orders')\n",
    "plt.show()"
   ]
  },
  {
   "cell_type": "markdown",
   "metadata": {},
   "source": [
    "Apparently there exists no coorelation between these variables. However, let us calculate the percentage of products that are reordered in orders (prior & train set)"
   ]
  },
  {
   "cell_type": "code",
   "execution_count": 19,
   "metadata": {},
   "outputs": [
    {
     "name": "stdout",
     "output_type": "stream",
     "text": [
      "% products reordered in prior set : 0.5896974667922161\n",
      "% products reordered in train set : 0.5985944127509629\n"
     ]
    }
   ],
   "source": [
    "# Percentage of reordered products in prior & train\n",
    "\n",
    "reordered = order_prior_df['reordered'].sum()\n",
    "total = len(order_prior_df)\n",
    "prior_reorder_percent = reordered / total\n",
    "\n",
    "reordered = order_train_df['reordered'].sum()\n",
    "total = len(order_train_df)\n",
    "train_reorder_percent = reordered / total\n",
    "\n",
    "print(f\"% products reordered in prior set : {prior_reorder_percent}\")\n",
    "print(f\"% products reordered in train set : {train_reorder_percent}\")"
   ]
  },
  {
   "cell_type": "code",
   "execution_count": 20,
   "metadata": {},
   "outputs": [
    {
     "name": "stdout",
     "output_type": "stream",
     "text": [
      "\n",
      "Orders having no reordered items (prior set) : 388513 / 3214874 (12.084859313304348%)\n",
      "Average products reordered per order (amongst orders having reordered items in prior set): 0.6809558197693687\n",
      "\n",
      "Orders having no reordered items (test set) : 8602 / 131209 (6.555952716658156%)\n",
      "Average products reordered per order (amongst orders having reordered items in test set): 0.6447411173584708\n"
     ]
    }
   ],
   "source": [
    "# Mean reordered products per order in prior & train\n",
    "reordered = order_prior_df.groupby('order_id')['reordered'].mean().reset_index()\n",
    "non_reorders = reordered[reordered['reordered'] == 0.0]\n",
    "num_non_reorders = len(non_reorders)\n",
    "total_prior_orders = order_prior_df['order_id'].nunique()\n",
    "num_reorders = total_prior_orders - num_non_reorders\n",
    "print(f'\\nOrders having no reordered items (prior set) : {num_non_reorders} / {total_prior_orders} ({(num_non_reorders/total_prior_orders) * 100}%)')\n",
    "\n",
    "avg_reordered = reordered['reordered'].sum() / num_reorders\n",
    "print(f\"Average products reordered per order (amongst orders having reordered items in prior set): {avg_reordered}\")\n",
    "\n",
    "reordered = order_train_df.groupby('order_id')['reordered'].mean().reset_index()\n",
    "non_reorders = reordered[reordered['reordered'] == 0.0]\n",
    "num_non_reorders = len(non_reorders)\n",
    "total_train_orders = order_train_df['order_id'].nunique()\n",
    "num_reorders = total_train_orders - num_non_reorders\n",
    "print(f'\\nOrders having no reordered items (test set) : {num_non_reorders} / {total_train_orders} ({(num_non_reorders/total_train_orders) * 100}%)')\n",
    "\n",
    "avg_reordered = reordered['reordered'].sum() / num_reorders\n",
    "print(f\"Average products reordered per order (amongst orders having reordered items in test set): {avg_reordered}\")\n"
   ]
  },
  {
   "cell_type": "markdown",
   "metadata": {},
   "source": [
    "#Observations:\n",
    "- 12% of the orders in the prior set have no reordered items in them\n",
    "-  6.5% of the orders in the train set have no reordered items in them\n",
    "-3) Out of the orders that contained reordered items,\n",
    "    approximately 65% of the items in the users basket are reordered items (previously ordered)."
   ]
  },
  {
   "cell_type": "code",
   "execution_count": 26,
   "metadata": {},
   "outputs": [
    {
     "data": {
      "text/plain": [
       "(         order_id  product_id  reordered  \\\n",
       " 0               1       49302          1   \n",
       " 1               1       11109          1   \n",
       " 2               1       10246          0   \n",
       " 3               1       49683          0   \n",
       " 4               1       43633          1   \n",
       " ...           ...         ...        ...   \n",
       " 1384612   3421063       14233          1   \n",
       " 1384613   3421063       35548          1   \n",
       " 1384614   3421070       35951          1   \n",
       " 1384615   3421070       16953          1   \n",
       " 1384616   3421070        4724          1   \n",
       " \n",
       "                                           product_name  aisle_id  \\\n",
       " 0                                     Bulgarian Yogurt       120   \n",
       " 1        Organic 4% Milk Fat Whole Milk Cottage Cheese       108   \n",
       " 2                                Organic Celery Hearts        83   \n",
       " 3                                       Cucumber Kirby        83   \n",
       " 4                 Lightly Smoked Sardines in Olive Oil        95   \n",
       " ...                                                ...       ...   \n",
       " 1384612                         Natural Artesian Water       115   \n",
       " 1384613                           Twice Baked Potatoes        13   \n",
       " 1384614                Organic Unsweetened Almond Milk        91   \n",
       " 1384615                           Creamy Peanut Butter        88   \n",
       " 1384616                             Broccoli Florettes        32   \n",
       " \n",
       "          department_id  \n",
       " 0                   16  \n",
       " 1                   16  \n",
       " 2                    4  \n",
       " 3                    4  \n",
       " 4                   15  \n",
       " ...                ...  \n",
       " 1384612              7  \n",
       " 1384613             20  \n",
       " 1384614             16  \n",
       " 1384615             13  \n",
       " 1384616              4  \n",
       " \n",
       " [1384617 rows x 6 columns], 1384617)"
      ]
     },
     "execution_count": 26,
     "metadata": {},
     "output_type": "execute_result"
    }
   ],
   "source": [
    "# The highest bought item\n",
    "merged_df = pd.merge(order_train_df[['order_id', 'product_id', 'reordered']],\n",
    "                     products_df,\n",
    "                     how='left', \n",
    "                     on='product_id')\n",
    "merged_df, "
   ]
  },
  {
   "cell_type": "code",
   "execution_count": 22,
   "metadata": {},
   "outputs": [],
   "source": [
    "# Most pupolar items i.e highest reordered"
   ]
  },
  {
   "cell_type": "code",
   "execution_count": 23,
   "metadata": {},
   "outputs": [],
   "source": [
    "# Unpopular items i.e. never reordered\n"
   ]
  }
 ],
 "metadata": {
  "kernelspec": {
   "display_name": "Python 3",
   "language": "python",
   "name": "python3"
  },
  "language_info": {
   "codemirror_mode": {
    "name": "ipython",
    "version": 3
   },
   "file_extension": ".py",
   "mimetype": "text/x-python",
   "name": "python",
   "nbconvert_exporter": "python",
   "pygments_lexer": "ipython3",
   "version": "3.7.4"
  }
 },
 "nbformat": 4,
 "nbformat_minor": 2
}
